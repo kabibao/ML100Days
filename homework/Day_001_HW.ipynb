{
 "cells": [
  {
   "cell_type": "markdown",
   "metadata": {
    "id": "P6xk2_jLsvFF"
   },
   "source": [
    "# [作業目標]\n",
    "\n",
    "1. [簡答題] 請問下列兩種將 Array 轉換成 List 的方式有何不同？\n",
    "\n",
    "```\n",
    "print('list(a): ', list(a))\n",
    "print('tolist(): ', a.tolist())\n",
    "```\n",
    "\n",
    "2. 請試著在程式中印出以下三個 NdArray 的屬性？（屬性：ndim、shape、size、dtype、itemsize、length、type）\n",
    "\n",
    "```\n",
    "a = np.random.randint(10, size=6) \n",
    "b = np.random.randint(10, size=(3,4)) \n",
    "c = np.random.randint(10, size=(2,3,2)) \n",
    "```\n",
    "\n",
    "3. 如何利用 list(...) 實現 a.tolist() 的效果？試著用程式實作。\n"
   ]
  },
  {
   "cell_type": "markdown",
   "metadata": {
    "id": "uXGll28asvFS"
   },
   "source": [
    "# 作業 "
   ]
  },
  {
   "cell_type": "markdown",
   "metadata": {
    "id": "SYkvkp9YLwB7"
   },
   "source": [
    "### 1. [簡答題] 請問下列兩種將 Array 轉換成 List 的方式有何不同？\n",
    "\n",
    "```\n",
    "print('list(a): ', list(a))\n",
    "print('tolist(): ', a.tolist())\n",
    "```\n"
   ]
  },
  {
   "cell_type": "markdown",
   "metadata": {
    "id": "5QrYoyNWsvFS",
    "outputId": "13f374d0-6f1b-47aa-bbac-c7d1a8c6995c"
   },
   "source": [
    "list(a) 只會把第一層的元素轉換成 List，多層的話只有第一層會轉；\n",
    "\n",
    "tolist() 才能達成多層的型態轉換"
   ]
  },
  {
   "cell_type": "markdown",
   "metadata": {
    "id": "AC9wUCyALwB9"
   },
   "source": [
    "### 2. 請試著在程式中印出以下三個 NdArray 的屬性並且解釋結果？（屬性：ndim、shape、size、dtype、itemsize、length、type）\n",
    "\n",
    "```\n",
    "a = np.random.randint(10, size=6) \n",
    "b = np.random.randint(10, size=(3,4)) \n",
    "c = np.random.randint(10, size=(2,3,2)) \n",
    "```"
   ]
  },
  {
   "cell_type": "code",
   "execution_count": 27,
   "metadata": {
    "id": "4qARRsdtLwB-"
   },
   "outputs": [],
   "source": [
    "# 記得先 Import 正確的套件\n",
    "import numpy as np\n",
    "\n"
   ]
  },
  {
   "cell_type": "code",
   "execution_count": 28,
   "metadata": {
    "id": "e1gVI0tvsvFY",
    "outputId": "9be10770-9042-40c8-c4bc-217b84be9fc9"
   },
   "outputs": [
    {
     "name": "stdout",
     "output_type": "stream",
     "text": [
      "[0 1 4 8 3 2]\n",
      "1\n",
      "(6,)\n",
      "6\n",
      "int32\n",
      "4\n",
      "<memory at 0x000001A446F9A740>\n",
      "\n",
      "6\n",
      "<class 'numpy.ndarray'>\n"
     ]
    }
   ],
   "source": [
    "\n",
    "a = np.random.randint(10, size=6) \n",
    "print(a)\n",
    "print(a.ndim)\n",
    "print(a.shape)\n",
    "print(a.size)\n",
    "print(a.dtype)\n",
    "print(a.itemsize)\n",
    "print(a.data)\n",
    "print(\"\"\"\"\"\")\n",
    "#python內建查詢length、type的方法\n",
    "print(len(a))\n",
    "print(type(a))"
   ]
  },
  {
   "attachments": {},
   "cell_type": "markdown",
   "metadata": {},
   "source": [
    "array a 為\n",
    "一維、\n",
    "維度形狀1*6=>行*列\n",
    "陣列中6個元素、\n",
    "資料型態為int64(整數)=>type\n",
    "長度為4=>lengh\n"
   ]
  },
  {
   "cell_type": "code",
   "execution_count": 29,
   "metadata": {
    "id": "iIJrIr7kLwB_",
    "outputId": "083c5519-394c-404e-9764-100c4ed5118a"
   },
   "outputs": [
    {
     "name": "stdout",
     "output_type": "stream",
     "text": [
      "[[0 5 9 5]\n",
      " [4 5 4 5]\n",
      " [6 6 4 0]]\n",
      "2\n",
      "(3, 4)\n",
      "12\n",
      "int32\n",
      "4\n",
      "\n",
      "3\n",
      "<class 'numpy.ndarray'>\n"
     ]
    }
   ],
   "source": [
    "b = np.random.randint(10, size=(3,4)) \n",
    "print(b)\n",
    "print(b.ndim)\n",
    "print(b.shape)\n",
    "print(b.size)\n",
    "print(b.dtype)\n",
    "print(b.itemsize)\n",
    "print(\"\"\"\"\"\")\n",
    "print(len(b))\n",
    "print(type(b))"
   ]
  },
  {
   "cell_type": "markdown",
   "metadata": {},
   "source": [
    "array b 為\n",
    "二維、\n",
    "維度形狀3*4=>行*列\n",
    "陣列中12個元素、\n",
    "資料型態為int32(整數)\n",
    "長度為4\n",
    "\n",
    "長度變成3\n"
   ]
  },
  {
   "cell_type": "code",
   "execution_count": 30,
   "metadata": {
    "id": "98SRFh_FLwCC",
    "outputId": "dc65dfac-9ae6-49d2-f854-88eccebc2aac"
   },
   "outputs": [
    {
     "name": "stdout",
     "output_type": "stream",
     "text": [
      "[[[3 2]\n",
      "  [8 2]\n",
      "  [6 1]]\n",
      "\n",
      " [[9 8]\n",
      "  [1 4]\n",
      "  [7 2]]]\n",
      "3\n",
      "(2, 3, 2)\n",
      "12\n",
      "int32\n",
      "4\n",
      "\n",
      "2\n",
      "<class 'numpy.ndarray'>\n"
     ]
    }
   ],
   "source": [
    "c = np.random.randint(10, size=(2,3,2)) \n",
    "\n",
    "print(c)\n",
    "print(c.ndim)\n",
    "print(c.shape)\n",
    "print(c.size)\n",
    "print(c.dtype)\n",
    "print(c.itemsize)\n",
    "\n",
    "print(\"\"\"\"\"\")\n",
    "print(len(c))\n",
    "print(type(c))"
   ]
  },
  {
   "cell_type": "markdown",
   "metadata": {},
   "source": [
    "array b 為\n",
    "三維、\n",
    "維度形狀2*3*2=>行*列*高\n",
    "陣列中12個元素、\n",
    "資料型態為int32(整數)=>type\n",
    "長度為4=>lengh"
   ]
  },
  {
   "cell_type": "markdown",
   "metadata": {},
   "source": [
    "a.size：\n",
    "\n",
    "a.size 返回 NumPy 數組 a 的總元素數量，即所有維度上的元素個數的乘積。 對於多維數組，a.size 返回的是所有維度元素的總數。 例如，如果 a 是一個 2x3 的矩陣，a.size 將返回 6。\n",
    "\n",
    "len(a)：\n",
    "\n",
    "len(a) 返回的是 NumPy 數組 a 的第一個維度的元素個數。 對於多維數組，len(a) 只返回第一個維度的元素數量。 例如，如果 a 是一個 2x3 的矩陣，len(a) 將返回 2。 簡而言之，a.size 考慮了所有維度上的元素，而 len(a) 只關心第一個維度的元素個數。在處理多維數組時，要注意這兩者之間的區別。如果 a 是一維數組，則 a.size 和 len(a) 將返回相同的結果。"
   ]
  },
  {
   "cell_type": "markdown",
   "metadata": {
    "id": "Uf6zC0QZLwCE"
   },
   "source": [
    "### 3. 如何利用 list(...) 實現 a.tolist() 的效果？試著用程式實作。\n"
   ]
  },
  {
   "cell_type": "code",
   "execution_count": 31,
   "metadata": {
    "id": "sCUzHu_BLwCF",
    "outputId": "ba9c8945-8efb-42b1-f978-2bbdda97accd"
   },
   "outputs": [
    {
     "name": "stdout",
     "output_type": "stream",
     "text": [
      "[6, 5, 4, 1, 0, 5]\n",
      "[6, 5, 4, 1, 0, 5]\n"
     ]
    }
   ],
   "source": [
    "a = np.random.randint(10, size=6) \n",
    "\n",
    "print(a.tolist())\n",
    "print(list(a))\n"
   ]
  },
  {
   "cell_type": "code",
   "execution_count": 32,
   "metadata": {
    "id": "IUkVtw8RLwCG",
    "outputId": "e39875a5-5ec7-431b-c12a-485acc167e44"
   },
   "outputs": [
    {
     "name": "stdout",
     "output_type": "stream",
     "text": [
      "[[6, 7, 0, 8], [9, 3, 3, 9], [5, 3, 7, 8]]\n",
      "[array([6, 7, 0, 8]), array([9, 3, 3, 9]), array([5, 3, 7, 8])]\n"
     ]
    }
   ],
   "source": [
    "b = np.random.randint(10, size=(3,4)) \n",
    "\n",
    "print(b.tolist())\n",
    "print(list(b))\n"
   ]
  },
  {
   "cell_type": "code",
   "execution_count": 33,
   "metadata": {
    "id": "NPhF8_CqLwCG",
    "outputId": "51fab908-5bfd-415f-9584-92bb376648c8"
   },
   "outputs": [
    {
     "name": "stdout",
     "output_type": "stream",
     "text": [
      "[[[7, 7], [8, 7], [5, 8]], [[5, 0], [9, 4], [7, 5]]]\n",
      "[array([[7, 7],\n",
      "       [8, 7],\n",
      "       [5, 8]]), array([[5, 0],\n",
      "       [9, 4],\n",
      "       [7, 5]])]\n"
     ]
    }
   ],
   "source": [
    "c = np.random.randint(10, size=(2,3,2)) \n",
    "\n",
    "print(c.tolist())\n",
    "print(list(c))\n"
   ]
  },
  {
   "cell_type": "code",
   "execution_count": 37,
   "metadata": {
    "id": "3Hc8vQYtLwCH",
    "outputId": "1290bc93-84ca-4da4-eb1a-315da37afaff"
   },
   "outputs": [
    {
     "name": "stdout",
     "output_type": "stream",
     "text": [
      "[6, 5, 4, 1, 0, 5]\n",
      "[[6, 7, 0, 8], [9, 3, 3, 9], [5, 3, 7, 8]]\n",
      "[[[7, 7], [8, 7], [5, 8]], [[5, 0], [9, 4], [7, 5]]]\n"
     ]
    }
   ],
   "source": [
    "#簡單版\n",
    "def tolist(iterable):\n",
    "    if type(iterable) != np.ndarray:\n",
    "        return iterable\n",
    "    newlist = []\n",
    "    for obj in iterable:\n",
    "        newlist.append(tolist(obj))\n",
    "    return list(newlist)\n",
    "    \n",
    "print(tolist(a))\n",
    "print(tolist(b))\n",
    "print(tolist(c))"
   ]
  },
  {
   "cell_type": "code",
   "execution_count": 39,
   "metadata": {
    "id": "2lDVOwFpLwCJ",
    "outputId": "ddfa84e4-3d32-4a68-c250-f57b2f66d830"
   },
   "outputs": [
    {
     "name": "stdout",
     "output_type": "stream",
     "text": [
      "[6, 5, 4, 1, 0, 5]\n",
      "[[6, 7, 0, 8], [9, 3, 3, 9], [5, 3, 7, 8]]\n",
      "[[[7, 7], [8, 7], [5, 8]], [[5, 0], [9, 4], [7, 5]]]\n"
     ]
    }
   ],
   "source": [
    "#進階版\n",
    "def tolist(iterable):\n",
    "    if type(iterable) != np.ndarray:\n",
    "        return iterable\n",
    "    return [tolist(obj) for obj in iterable]\n",
    "    \n",
    "print(tolist(a))\n",
    "print(tolist(b))\n",
    "print(tolist(c))"
   ]
  },
  {
   "cell_type": "markdown",
   "metadata": {
    "id": "640whg6NLwCK"
   },
   "source": [
    "做一個小迴圈把list一層一層寫進去\n",
    "將 NumPy 數組轉換為列表"
   ]
  }
 ],
 "metadata": {
  "colab": {
   "name": "01Homework_維元.ipynb",
   "provenance": []
  },
  "kernelspec": {
   "display_name": "Python 3 (ipykernel)",
   "language": "python",
   "name": "python3"
  },
  "language_info": {
   "codemirror_mode": {
    "name": "ipython",
    "version": 3
   },
   "file_extension": ".py",
   "mimetype": "text/x-python",
   "name": "python",
   "nbconvert_exporter": "python",
   "pygments_lexer": "ipython3",
   "version": "3.10.13"
  }
 },
 "nbformat": 4,
 "nbformat_minor": 1
}
